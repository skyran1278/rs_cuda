{
 "cells": [
  {
   "cell_type": "code",
   "execution_count": null,
   "id": "3207ad87",
   "metadata": {
    "vscode": {
     "languageId": "plaintext"
    }
   },
   "outputs": [],
   "source": [
    "!python --version\n",
    "!nvcc --version\n",
    "!pip install nvcc4jupyter\n",
    "%load_ext nvcc4jupyter"
   ]
  },
  {
   "cell_type": "code",
   "execution_count": null,
   "id": "81855121",
   "metadata": {
    "vscode": {
     "languageId": "plaintext"
    }
   },
   "outputs": [],
   "source": [
    "%%cuda\n",
    "#include <stdio.h>\n",
    "__global__ void hello(){\n",
    " printf(“Hello from block: %u, thread: %u\\n”, blockIdx.x, threadIdx.x);\n",
    "}\n",
    "int main(){\n",
    " hello<<<2, 2>>>();\n",
    " cudaDeviceSynchronize();\n",
    "}"
   ]
  }
 ],
 "metadata": {
  "language_info": {
   "name": "python"
  }
 },
 "nbformat": 4,
 "nbformat_minor": 5
}
